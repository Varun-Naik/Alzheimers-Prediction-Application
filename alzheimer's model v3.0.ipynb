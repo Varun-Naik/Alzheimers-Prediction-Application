{
 "cells": [
  {
   "cell_type": "code",
   "execution_count": 1,
   "id": "de321302",
   "metadata": {},
   "outputs": [],
   "source": [
    "import pandas as pd\n",
    "from sklearn.model_selection import train_test_split\n",
    "from sklearn.ensemble import RandomForestClassifier\n",
    "from sklearn.preprocessing import LabelEncoder, OneHotEncoder"
   ]
  },
  {
   "cell_type": "code",
   "execution_count": 2,
   "id": "ab7d6d53",
   "metadata": {},
   "outputs": [],
   "source": [
    "# Import data\n",
    "mri= pd.read_csv(\"oasis_longitudinal.csv\")"
   ]
  },
  {
   "cell_type": "code",
   "execution_count": 4,
   "id": "39cfde2b",
   "metadata": {},
   "outputs": [
    {
     "name": "stdout",
     "output_type": "stream",
     "text": [
      "Subject ID    False\n",
      "MRI ID        False\n",
      "Group         False\n",
      "Visit         False\n",
      "MR Delay      False\n",
      "M/F           False\n",
      "Age           False\n",
      "EDUC          False\n",
      "SES           False\n",
      "MMSE          False\n",
      "CDR           False\n",
      "eTIV          False\n",
      "nWBV          False\n",
      "ASF           False\n",
      "dtype: bool\n"
     ]
    }
   ],
   "source": [
    "# Data Cleaning\n",
    "Pre_Cleaned = pd.DataFrame(mri)\n",
    "Pre_Cleaned['SES'].fillna(2,inplace = True)\n",
    "Pre_Cleaned['MMSE'].fillna(30,inplace = True)\n",
    "Pre_Cleaned = Pre_Cleaned.drop(Pre_Cleaned[Pre_Cleaned['Group'] == 'Converted'].index)\n",
    "Pre_Cleaned = Pre_Cleaned.drop('Hand', axis = 1)\n",
    "print(Pre_Cleaned.isnull().any())"
   ]
  },
  {
   "cell_type": "code",
   "execution_count": 5,
   "id": "7cb9855e",
   "metadata": {},
   "outputs": [],
   "source": [
    "# Transfer character to numeric\n",
    "class MultiColumnLabelEncoder:\n",
    "    def __init__(self,columns = None):\n",
    "        self.columns = columns\n",
    "\n",
    "    def fit(self,X,y=None):\n",
    "        return self\n",
    "\n",
    "    def transform(self,X):\n",
    "        output = X.copy()\n",
    "        if self.columns is not None:\n",
    "            for col in self.columns:\n",
    "                output[col] = LabelEncoder().fit_transform(output[col])\n",
    "        else:\n",
    "            for colname,col in output.iteritems():\n",
    "                output[colname] = LabelEncoder().fit_transform(col)\n",
    "        return output\n",
    "\n",
    "    def fit_transform(self,X,y=None):\n",
    "        return self.fit(X,y).transform(X)\n",
    "\n",
    "Pre_Cleaned[['Group','M/F']] = Pre_Cleaned[['Group','M/F']].apply(LabelEncoder().fit_transform)"
   ]
  },
  {
   "cell_type": "code",
   "execution_count": 6,
   "id": "0f4765d1",
   "metadata": {},
   "outputs": [],
   "source": [
    "# Sampling into testing and training dataset\n",
    "Pre_Cleaned_1 = Pre_Cleaned.drop('Subject ID', axis = 1)\n",
    "dataset_Cleaned = Pre_Cleaned_1.drop('MRI ID', axis = 1)\n",
    "X = dataset_Cleaned.drop('Group', axis = 1)\n",
    "y = dataset_Cleaned['Group']\n",
    "X_train, X_test, y_train, y_test = train_test_split(X, y, test_size=0.2, stratify=y, random_state=42)"
   ]
  },
  {
   "cell_type": "code",
   "execution_count": 7,
   "id": "49bf589d",
   "metadata": {},
   "outputs": [
    {
     "name": "stdout",
     "output_type": "stream",
     "text": [
      "1.0 1.0\n"
     ]
    }
   ],
   "source": [
    "# Model Development\n",
    "# Random Forest model\n",
    "random_forest_model = RandomForestClassifier()\n",
    "random_forest_model.fit(X_train,y_train)\n",
    "print(random_forest_model.score(X_train,y_train),random_forest_model.score(X_test,y_test))"
   ]
  },
  {
   "cell_type": "code",
   "execution_count": null,
   "id": "6aede460",
   "metadata": {},
   "outputs": [],
   "source": []
  }
 ],
 "metadata": {
  "kernelspec": {
   "display_name": "Python 3 (ipykernel)",
   "language": "python",
   "name": "python3"
  },
  "language_info": {
   "codemirror_mode": {
    "name": "ipython",
    "version": 3
   },
   "file_extension": ".py",
   "mimetype": "text/x-python",
   "name": "python",
   "nbconvert_exporter": "python",
   "pygments_lexer": "ipython3",
   "version": "3.9.7"
  }
 },
 "nbformat": 4,
 "nbformat_minor": 5
}
